{
 "cells": [
  {
   "cell_type": "code",
   "execution_count": 1,
   "id": "6b40dc7b-2308-4b32-b86e-a0c4bc86189e",
   "metadata": {},
   "outputs": [],
   "source": [
    "import pandas as pd\n",
    "import sqlite3"
   ]
  },
  {
   "cell_type": "code",
   "execution_count": 2,
   "id": "83f57620-c09b-4d18-a143-90e116c4810f",
   "metadata": {},
   "outputs": [
    {
     "data": {
      "text/html": [
       "<div>\n",
       "<style scoped>\n",
       "    .dataframe tbody tr th:only-of-type {\n",
       "        vertical-align: middle;\n",
       "    }\n",
       "\n",
       "    .dataframe tbody tr th {\n",
       "        vertical-align: top;\n",
       "    }\n",
       "\n",
       "    .dataframe thead th {\n",
       "        text-align: right;\n",
       "    }\n",
       "</style>\n",
       "<table border=\"1\" class=\"dataframe\">\n",
       "  <thead>\n",
       "    <tr style=\"text-align: right;\">\n",
       "      <th></th>\n",
       "      <th>ID</th>\n",
       "      <th>Topic</th>\n",
       "      <th>ReversedDomain</th>\n",
       "      <th>Content</th>\n",
       "    </tr>\n",
       "  </thead>\n",
       "  <tbody>\n",
       "    <tr>\n",
       "      <th>0</th>\n",
       "      <td>362</td>\n",
       "      <td>Business</td>\n",
       "      <td>ac.accent</td>\n",
       "      <td>['accent', 'services', 'uk', 'based', 'full', ...</td>\n",
       "    </tr>\n",
       "    <tr>\n",
       "      <th>1</th>\n",
       "      <td>362</td>\n",
       "      <td>Regional</td>\n",
       "      <td>ac.accent</td>\n",
       "      <td>['accent', 'services', 'a', 'full', 'service',...</td>\n",
       "    </tr>\n",
       "    <tr>\n",
       "      <th>2</th>\n",
       "      <td>383</td>\n",
       "      <td>Regional</td>\n",
       "      <td>ac.acs</td>\n",
       "      <td>['anderson', 'county', 'schools', 'public', 's...</td>\n",
       "    </tr>\n",
       "    <tr>\n",
       "      <th>3</th>\n",
       "      <td>390</td>\n",
       "      <td>Games</td>\n",
       "      <td>ac.adamcadre</td>\n",
       "      <td>['allows', 'the', 'game', 'to', 'be', 'played'...</td>\n",
       "    </tr>\n",
       "    <tr>\n",
       "      <th>4</th>\n",
       "      <td>424</td>\n",
       "      <td>World</td>\n",
       "      <td>ac.aikido</td>\n",
       "      <td>['langnau', 'aikidogruppe', 'in', 'zusammenarb...</td>\n",
       "    </tr>\n",
       "    <tr>\n",
       "      <th>...</th>\n",
       "      <td>...</td>\n",
       "      <td>...</td>\n",
       "      <td>...</td>\n",
       "      <td>...</td>\n",
       "    </tr>\n",
       "    <tr>\n",
       "      <th>2289392</th>\n",
       "      <td>91033952</td>\n",
       "      <td>Society</td>\n",
       "      <td>zw.org.nascoh</td>\n",
       "      <td>['national', 'association', 'of', 'societies',...</td>\n",
       "    </tr>\n",
       "    <tr>\n",
       "      <th>2289393</th>\n",
       "      <td>91034085</td>\n",
       "      <td>Computers</td>\n",
       "      <td>zw.org.zispa</td>\n",
       "      <td>['zw', 'domain', 'zimbabwe', 'nic', 'for', 'zw...</td>\n",
       "    </tr>\n",
       "    <tr>\n",
       "      <th>2289394</th>\n",
       "      <td>91034085</td>\n",
       "      <td>Regional</td>\n",
       "      <td>zw.org.zispa</td>\n",
       "      <td>['zimbabwe', 'internet', 'service', 'providers...</td>\n",
       "    </tr>\n",
       "    <tr>\n",
       "      <th>2289395</th>\n",
       "      <td>91034088</td>\n",
       "      <td>Regional</td>\n",
       "      <td>zw.org.zlhr</td>\n",
       "      <td>['zimbabwe', 'lawyers', 'for', 'human', 'right...</td>\n",
       "    </tr>\n",
       "    <tr>\n",
       "      <th>2289396</th>\n",
       "      <td>91034088</td>\n",
       "      <td>Society</td>\n",
       "      <td>zw.org.zlhr</td>\n",
       "      <td>['zimbabwe', 'lawyers', 'for', 'human', 'right...</td>\n",
       "    </tr>\n",
       "  </tbody>\n",
       "</table>\n",
       "<p>2289397 rows × 4 columns</p>\n",
       "</div>"
      ],
      "text/plain": [
       "               ID      Topic ReversedDomain  \\\n",
       "0             362   Business      ac.accent   \n",
       "1             362   Regional      ac.accent   \n",
       "2             383   Regional         ac.acs   \n",
       "3             390      Games   ac.adamcadre   \n",
       "4             424      World      ac.aikido   \n",
       "...           ...        ...            ...   \n",
       "2289392  91033952    Society  zw.org.nascoh   \n",
       "2289393  91034085  Computers   zw.org.zispa   \n",
       "2289394  91034085   Regional   zw.org.zispa   \n",
       "2289395  91034088   Regional    zw.org.zlhr   \n",
       "2289396  91034088    Society    zw.org.zlhr   \n",
       "\n",
       "                                                   Content  \n",
       "0        ['accent', 'services', 'uk', 'based', 'full', ...  \n",
       "1        ['accent', 'services', 'a', 'full', 'service',...  \n",
       "2        ['anderson', 'county', 'schools', 'public', 's...  \n",
       "3        ['allows', 'the', 'game', 'to', 'be', 'played'...  \n",
       "4        ['langnau', 'aikidogruppe', 'in', 'zusammenarb...  \n",
       "...                                                    ...  \n",
       "2289392  ['national', 'association', 'of', 'societies',...  \n",
       "2289393  ['zw', 'domain', 'zimbabwe', 'nic', 'for', 'zw...  \n",
       "2289394  ['zimbabwe', 'internet', 'service', 'providers...  \n",
       "2289395  ['zimbabwe', 'lawyers', 'for', 'human', 'right...  \n",
       "2289396  ['zimbabwe', 'lawyers', 'for', 'human', 'right...  \n",
       "\n",
       "[2289397 rows x 4 columns]"
      ]
     },
     "execution_count": 2,
     "metadata": {},
     "output_type": "execute_result"
    }
   ],
   "source": [
    "df = pd.read_csv(\"outputs/cleaned_matched_df.csv\")\n",
    "df"
   ]
  },
  {
   "cell_type": "code",
   "execution_count": 40,
   "id": "be1d5964-06d6-472b-ab20-9943fb819724",
   "metadata": {},
   "outputs": [],
   "source": [
    "valid_nodes = pd.DataFrame({\"node_id\": df[\"ID\"]}).drop_duplicates().reset_index(drop=True)"
   ]
  },
  {
   "cell_type": "code",
   "execution_count": 50,
   "id": "03b3736b-55dd-4f7b-abe0-8f22e3b5d24f",
   "metadata": {},
   "outputs": [
    {
     "data": {
      "text/html": [
       "<div>\n",
       "<style scoped>\n",
       "    .dataframe tbody tr th:only-of-type {\n",
       "        vertical-align: middle;\n",
       "    }\n",
       "\n",
       "    .dataframe tbody tr th {\n",
       "        vertical-align: top;\n",
       "    }\n",
       "\n",
       "    .dataframe thead th {\n",
       "        text-align: right;\n",
       "    }\n",
       "</style>\n",
       "<table border=\"1\" class=\"dataframe\">\n",
       "  <thead>\n",
       "    <tr style=\"text-align: right;\">\n",
       "      <th></th>\n",
       "      <th>node_id</th>\n",
       "    </tr>\n",
       "  </thead>\n",
       "  <tbody>\n",
       "    <tr>\n",
       "      <th>0</th>\n",
       "      <td>362</td>\n",
       "    </tr>\n",
       "    <tr>\n",
       "      <th>1</th>\n",
       "      <td>383</td>\n",
       "    </tr>\n",
       "    <tr>\n",
       "      <th>2</th>\n",
       "      <td>390</td>\n",
       "    </tr>\n",
       "    <tr>\n",
       "      <th>3</th>\n",
       "      <td>424</td>\n",
       "    </tr>\n",
       "    <tr>\n",
       "      <th>4</th>\n",
       "      <td>442</td>\n",
       "    </tr>\n",
       "    <tr>\n",
       "      <th>...</th>\n",
       "      <td>...</td>\n",
       "    </tr>\n",
       "    <tr>\n",
       "      <th>2089095</th>\n",
       "      <td>91033860</td>\n",
       "    </tr>\n",
       "    <tr>\n",
       "      <th>2089096</th>\n",
       "      <td>91033932</td>\n",
       "    </tr>\n",
       "    <tr>\n",
       "      <th>2089097</th>\n",
       "      <td>91033952</td>\n",
       "    </tr>\n",
       "    <tr>\n",
       "      <th>2089098</th>\n",
       "      <td>91034085</td>\n",
       "    </tr>\n",
       "    <tr>\n",
       "      <th>2089099</th>\n",
       "      <td>91034088</td>\n",
       "    </tr>\n",
       "  </tbody>\n",
       "</table>\n",
       "<p>2089100 rows × 1 columns</p>\n",
       "</div>"
      ],
      "text/plain": [
       "          node_id\n",
       "0             362\n",
       "1             383\n",
       "2             390\n",
       "3             424\n",
       "4             442\n",
       "...           ...\n",
       "2089095  91033860\n",
       "2089096  91033932\n",
       "2089097  91033952\n",
       "2089098  91034085\n",
       "2089099  91034088\n",
       "\n",
       "[2089100 rows x 1 columns]"
      ]
     },
     "execution_count": 50,
     "metadata": {},
     "output_type": "execute_result"
    }
   ],
   "source": [
    "valid_nodes"
   ]
  },
  {
   "cell_type": "markdown",
   "id": "a9fba680-372c-4b39-8d83-ba26e6833e95",
   "metadata": {},
   "source": [
    "## Save edges to database"
   ]
  },
  {
   "cell_type": "code",
   "execution_count": 22,
   "id": "b7b1a094-01db-441e-a2f1-98e67190415d",
   "metadata": {},
   "outputs": [],
   "source": [
    "edgesdomainpath = \"webdata/commoncrawl/cc-main-2017-may-jun-jul/edges.txt\""
   ]
  },
  {
   "cell_type": "code",
   "execution_count": 5,
   "id": "a711a38a-5eb7-47c3-ad85-a6ffbd0abcb2",
   "metadata": {},
   "outputs": [],
   "source": [
    "conn = sqlite3.connect(\"outputs/edges.db\")\n",
    "cursor = conn.cursor()"
   ]
  },
  {
   "cell_type": "code",
   "execution_count": 6,
   "id": "2ddf7c9c-a998-4f3e-a84c-35c17691c822",
   "metadata": {},
   "outputs": [],
   "source": [
    "# Create table for edges\n",
    "cursor.execute(\"\"\"\n",
    "    CREATE TABLE edges (\n",
    "        from_node INTEGER,\n",
    "        to_node INTEGER\n",
    "    )\n",
    "\"\"\")\n",
    "conn.commit()"
   ]
  },
  {
   "cell_type": "code",
   "execution_count": 7,
   "id": "87220a8d-22a9-49dc-aad6-966a3612d9b6",
   "metadata": {},
   "outputs": [],
   "source": [
    "chunk_size = 10**6  # Adjust based on memory\n",
    "with pd.read_csv(edgesdomainpath, sep=\"\\t\", chunksize=chunk_size, header=None, names=[\"from_node\", \"to_node\"]) as reader:\n",
    "    for chunk in reader:\n",
    "        chunk.to_sql(\"edges\", conn, if_exists=\"append\", index=False)"
   ]
  },
  {
   "cell_type": "code",
   "execution_count": 39,
   "id": "5f7aff2e-f749-409d-96fe-873bec06699d",
   "metadata": {},
   "outputs": [],
   "source": [
    "valid_nodes.to_sql(\"valid_nodes\", conn, if_exists=\"replace\", index=False)"
   ]
  },
  {
   "cell_type": "code",
   "execution_count": 9,
   "id": "f6c06319-8353-46ee-a7bb-068b67fdd021",
   "metadata": {},
   "outputs": [],
   "source": [
    "# Create indexes on the edges and valid_nodes tables\n",
    "cursor.execute(\"CREATE INDEX idx_edges_from_node ON edges (from_node);\")\n",
    "cursor.execute(\"CREATE INDEX idx_edges_to_node ON edges (to_node);\")\n",
    "conn.commit()"
   ]
  },
  {
   "cell_type": "code",
   "execution_count": 72,
   "id": "435c1ed4-dbe7-4810-a37c-96830bb50ea0",
   "metadata": {},
   "outputs": [],
   "source": [
    "cursor.execute(\"CREATE INDEX idx_valid_nodes_node_id ON valid_nodes (node_id);\")\n",
    "conn.commit()"
   ]
  },
  {
   "cell_type": "markdown",
   "id": "43ed574f-9da7-4951-9c29-dc95972ab05c",
   "metadata": {},
   "source": [
    "# Create filtered database"
   ]
  },
  {
   "cell_type": "markdown",
   "id": "7a9cc87e-5b35-4a72-a11a-928c37581135",
   "metadata": {},
   "source": [
    "### Remove nodes out of range"
   ]
  },
  {
   "cell_type": "code",
   "execution_count": 33,
   "id": "63f8d8c5-67f8-49a7-aec1-12a7b3d16068",
   "metadata": {},
   "outputs": [],
   "source": [
    "conn = sqlite3.connect(\"outputs/edges.db\")\n",
    "cursor = conn.cursor()"
   ]
  },
  {
   "cell_type": "code",
   "execution_count": 3,
   "id": "5a2bcfc6-06d1-438f-b496-f7b39d2de79c",
   "metadata": {},
   "outputs": [
    {
     "name": "stdout",
     "output_type": "stream",
     "text": [
      "Valid node ID range: 362 - 91034088\n"
     ]
    }
   ],
   "source": [
    "# Step 1: Get the minimum and maximum valid node IDs\n",
    "cursor.execute(\"SELECT MIN(node_id), MAX(node_id) FROM valid_nodes;\")\n",
    "min_valid_id, max_valid_id = cursor.fetchone()\n",
    "print(f\"Valid node ID range: {min_valid_id} - {max_valid_id}\")\n",
    "\n",
    "cursor.execute(\"\"\"\n",
    "DELETE FROM edges\n",
    "WHERE from_node < ? OR from_node > ?;\n",
    "\"\"\", (min_valid_id, max_valid_id))\n",
    "\n",
    "cursor.execute(\"\"\"\n",
    "DELETE FROM edges\n",
    "WHERE to_node < ? OR to_node > ?;\n",
    "\"\"\", (min_valid_id, max_valid_id))\n",
    "\n",
    "conn.commit()"
   ]
  },
  {
   "cell_type": "code",
   "execution_count": 8,
   "id": "bb46df37-6aee-4587-8051-d5bade54f68f",
   "metadata": {},
   "outputs": [
    {
     "name": "stdout",
     "output_type": "stream",
     "text": [
      "1071170354\n"
     ]
    }
   ],
   "source": [
    "# Get the total number of rows in the edges table\n",
    "cursor.execute(\"SELECT COUNT(*) FROM edges;\")\n",
    "total_rows = cursor.fetchone()[0]\n",
    "print(total_rows)\n",
    "\n",
    "#1071170354"
   ]
  },
  {
   "cell_type": "markdown",
   "id": "59322b82-8624-4f55-8b7e-a291ea6cbcc5",
   "metadata": {},
   "source": [
    "### Filter based on the from_nodes (do in chunks due to size)"
   ]
  },
  {
   "cell_type": "code",
   "execution_count": 9,
   "id": "a993339e-dbe2-4582-a069-edc401c1d2fc",
   "metadata": {},
   "outputs": [
    {
     "name": "stdout",
     "output_type": "stream",
     "text": [
      "Processed rows: 500000000\n"
     ]
    }
   ],
   "source": [
    "chunk_size = 5*10**8\n",
    "offset = 0\n",
    "query = f\"\"\"\n",
    "    CREATE TABLE temp_edges AS\n",
    "    SELECT *\n",
    "    FROM edges\n",
    "    LIMIT {chunk_size} OFFSET {offset};\n",
    "\"\"\"\n",
    "cursor.execute(query)\n",
    "conn.commit()\n",
    "print(f\"Processed rows: {min(offset + chunk_size, total_rows)}\")"
   ]
  },
  {
   "cell_type": "code",
   "execution_count": 10,
   "id": "ff2a07a4-60ed-47fe-9d2b-0d8230c21033",
   "metadata": {},
   "outputs": [
    {
     "name": "stdout",
     "output_type": "stream",
     "text": [
      "Processed rows: 500000000\n"
     ]
    }
   ],
   "source": [
    "query = f\"\"\"\n",
    "    CREATE TABLE filtered_from_p1 AS\n",
    "    SELECT temp_edges.*\n",
    "    FROM temp_edges\n",
    "    INNER JOIN valid_nodes \n",
    "    ON temp_edges.from_node = valid_nodes.node_id;\n",
    "\"\"\"\n",
    "\n",
    "cursor.execute(query)\n",
    "conn.commit()\n",
    "print(f\"Processed rows: {min(offset + chunk_size, total_rows)}\")"
   ]
  },
  {
   "cell_type": "code",
   "execution_count": 11,
   "id": "cc2d428e-0c57-435c-9ea6-3568ee041f5a",
   "metadata": {},
   "outputs": [
    {
     "name": "stdout",
     "output_type": "stream",
     "text": [
      "81509929\n"
     ]
    }
   ],
   "source": [
    "cursor.execute(\"SELECT COUNT(*) FROM filtered_from_p1;\")\n",
    "part1_from_rows = cursor.fetchone()[0]\n",
    "print(part1_from_rows)"
   ]
  },
  {
   "cell_type": "code",
   "execution_count": 14,
   "id": "fd221efc-7e43-48ce-a4a9-1f80dcb9f4d0",
   "metadata": {},
   "outputs": [
    {
     "name": "stdout",
     "output_type": "stream",
     "text": [
      "(42620222, 23612737)\n",
      "(42620222, 24229864)\n",
      "(42620222, 24230475)\n",
      "(42620222, 42264752)\n",
      "(42620222, 48714451)\n",
      "(42620252, 11326342)\n",
      "(42620252, 21860195)\n",
      "(42620252, 24230475)\n",
      "(42620252, 24231253)\n",
      "(42620252, 34369078)\n",
      "(42620252, 34601565)\n",
      "(42620252, 36928002)\n",
      "(42620252, 45612695)\n",
      "(42620252, 45880772)\n",
      "(42620252, 62632273)\n",
      "(42620252, 87543940)\n",
      "(42620252, 87625743)\n",
      "(42620252, 88534673)\n",
      "(42620252, 88636058)\n",
      "(42620312, 24231253)\n"
     ]
    }
   ],
   "source": [
    "cursor.execute(\"SELECT * FROM filtered_from_p1 LIMIT 20 OFFSET 81509909;\")\n",
    "part1_from_rows = cursor.fetchall()\n",
    "for row in part1_from_rows:\n",
    "    print(row)"
   ]
  },
  {
   "cell_type": "code",
   "execution_count": 15,
   "id": "aa075159-383f-4259-a9e4-30ce9e9b281b",
   "metadata": {},
   "outputs": [],
   "source": [
    "cursor.execute(\"DROP TABLE IF EXISTS temp_edges;\")\n",
    "conn.commit()"
   ]
  },
  {
   "cell_type": "code",
   "execution_count": 16,
   "id": "641bb14e-ec1e-409a-b51f-27fddd7f06c3",
   "metadata": {},
   "outputs": [
    {
     "name": "stdout",
     "output_type": "stream",
     "text": [
      "Processed rows: 500000000\n"
     ]
    }
   ],
   "source": [
    "query = f\"\"\"\n",
    "    CREATE TABLE temp_edges AS\n",
    "    SELECT *\n",
    "    FROM edges\n",
    "    LIMIT {total_rows - chunk_size} OFFSET {chunk_size};\n",
    "\"\"\"\n",
    "cursor.execute(query)\n",
    "conn.commit()\n",
    "print(f\"Processed rows: {min(offset + chunk_size, total_rows)}\")"
   ]
  },
  {
   "cell_type": "code",
   "execution_count": 19,
   "id": "7564dd2d-66ff-45d2-b84a-c39ae5a56198",
   "metadata": {},
   "outputs": [
    {
     "name": "stdout",
     "output_type": "stream",
     "text": [
      "Processed rows: 571170354\n"
     ]
    }
   ],
   "source": [
    "query = f\"\"\"\n",
    "    CREATE TABLE filtered_from_p2 AS\n",
    "    SELECT temp_edges.*\n",
    "    FROM temp_edges\n",
    "    INNER JOIN valid_nodes \n",
    "    ON temp_edges.from_node = valid_nodes.node_id;\n",
    "\"\"\"\n",
    "\n",
    "cursor.execute(query)\n",
    "conn.commit()\n",
    "print(f\"Processed rows: {min(total_rows - chunk_size, total_rows)}\")"
   ]
  },
  {
   "cell_type": "code",
   "execution_count": 20,
   "id": "7741ac27-6560-47bf-9853-297cb2989261",
   "metadata": {},
   "outputs": [
    {
     "name": "stdout",
     "output_type": "stream",
     "text": [
      "120540544\n"
     ]
    }
   ],
   "source": [
    "cursor.execute(\"SELECT COUNT(*) FROM filtered_from_p2;\")\n",
    "part2_from_rows = cursor.fetchone()[0]\n",
    "print(part2_from_rows)"
   ]
  },
  {
   "cell_type": "code",
   "execution_count": 21,
   "id": "0fddb698-5d63-44c6-8549-c29de15991a6",
   "metadata": {},
   "outputs": [
    {
     "name": "stdout",
     "output_type": "stream",
     "text": [
      "(42620443, 21860195)\n",
      "(42620443, 24621514)\n",
      "(42620443, 34391867)\n",
      "(42620503, 9266025)\n",
      "(42620503, 9795978)\n",
      "(42620503, 11674717)\n",
      "(42620503, 12851052)\n",
      "(42620503, 16141626)\n",
      "(42620503, 16233566)\n",
      "(42620503, 18162839)\n"
     ]
    }
   ],
   "source": [
    "cursor.execute(\"SELECT * FROM filtered_from_p2 LIMIT 10;\")\n",
    "part2_from_rows = cursor.fetchall()\n",
    "for row in part2_from_rows:\n",
    "    print(row)"
   ]
  },
  {
   "cell_type": "code",
   "execution_count": 22,
   "id": "3a05625d-0ff6-4bc0-8fed-95eb8b1a9a09",
   "metadata": {},
   "outputs": [],
   "source": [
    "query = \"\"\"\n",
    "    CREATE TABLE merged_filtered_from AS\n",
    "    SELECT * FROM filtered_from_p1\n",
    "    UNION ALL\n",
    "    SELECT * FROM filtered_from_p2;\n",
    "\"\"\"\n",
    "cursor.execute(query)\n",
    "conn.commit()"
   ]
  },
  {
   "cell_type": "code",
   "execution_count": 23,
   "id": "36ef7f93-23a0-4bb6-9998-fdad1e84898e",
   "metadata": {},
   "outputs": [
    {
     "name": "stdout",
     "output_type": "stream",
     "text": [
      "202050473\n"
     ]
    }
   ],
   "source": [
    "cursor.execute(\"SELECT COUNT(*) FROM merged_filtered_from;\")\n",
    "merged_from_rows = cursor.fetchone()[0]\n",
    "print(merged_from_rows)"
   ]
  },
  {
   "cell_type": "markdown",
   "id": "0f2ed7a1-b57d-437d-821c-8ee2400a0704",
   "metadata": {},
   "source": [
    "### Now filter based on the to_nodes (can do all at once due to reduced size)"
   ]
  },
  {
   "cell_type": "code",
   "execution_count": 30,
   "id": "3d18e5ef-ea4f-4801-9ff6-3e55f2c02049",
   "metadata": {},
   "outputs": [],
   "source": [
    "query = f\"\"\"\n",
    "    CREATE TABLE filtered_edges AS\n",
    "    SELECT merged_filtered_from.*\n",
    "    FROM merged_filtered_from\n",
    "    INNER JOIN valid_nodes \n",
    "    ON merged_filtered_from.to_node = valid_nodes.node_id;\n",
    "\"\"\"\n",
    "\n",
    "cursor.execute(query)\n",
    "conn.commit()"
   ]
  },
  {
   "cell_type": "code",
   "execution_count": 31,
   "id": "b13b4d42-5665-4772-ad65-6bba48e3c336",
   "metadata": {},
   "outputs": [
    {
     "name": "stdout",
     "output_type": "stream",
     "text": [
      "68294063\n"
     ]
    }
   ],
   "source": [
    "cursor.execute(\"SELECT COUNT(*) FROM filtered_edges;\")\n",
    "filtered_rows = cursor.fetchone()[0]\n",
    "print(filtered_rows)"
   ]
  },
  {
   "cell_type": "markdown",
   "id": "99f2dfa5-5be5-4747-983d-0a4bc63cbb42",
   "metadata": {},
   "source": [
    "# Save filtered_edges table"
   ]
  },
  {
   "cell_type": "code",
   "execution_count": 34,
   "id": "ff6159ef-2434-439c-a517-822f0500ad54",
   "metadata": {},
   "outputs": [],
   "source": [
    "filtered_edges_df = pd.read_sql_query(\"SELECT * FROM filtered_edges\", conn)"
   ]
  },
  {
   "cell_type": "code",
   "execution_count": 36,
   "id": "ae94849e-f8d4-4c67-9804-23dda0c644d6",
   "metadata": {
    "scrolled": true
   },
   "outputs": [
    {
     "data": {
      "text/html": [
       "<div>\n",
       "<style scoped>\n",
       "    .dataframe tbody tr th:only-of-type {\n",
       "        vertical-align: middle;\n",
       "    }\n",
       "\n",
       "    .dataframe tbody tr th {\n",
       "        vertical-align: top;\n",
       "    }\n",
       "\n",
       "    .dataframe thead th {\n",
       "        text-align: right;\n",
       "    }\n",
       "</style>\n",
       "<table border=\"1\" class=\"dataframe\">\n",
       "  <thead>\n",
       "    <tr style=\"text-align: right;\">\n",
       "      <th></th>\n",
       "      <th>from_node</th>\n",
       "      <th>to_node</th>\n",
       "    </tr>\n",
       "  </thead>\n",
       "  <tbody>\n",
       "    <tr>\n",
       "      <th>0</th>\n",
       "      <td>362</td>\n",
       "      <td>13833969</td>\n",
       "    </tr>\n",
       "    <tr>\n",
       "      <th>1</th>\n",
       "      <td>362</td>\n",
       "      <td>21183718</td>\n",
       "    </tr>\n",
       "    <tr>\n",
       "      <th>2</th>\n",
       "      <td>362</td>\n",
       "      <td>24229864</td>\n",
       "    </tr>\n",
       "    <tr>\n",
       "      <th>3</th>\n",
       "      <td>362</td>\n",
       "      <td>30617333</td>\n",
       "    </tr>\n",
       "    <tr>\n",
       "      <th>4</th>\n",
       "      <td>362</td>\n",
       "      <td>34548414</td>\n",
       "    </tr>\n",
       "    <tr>\n",
       "      <th>...</th>\n",
       "      <td>...</td>\n",
       "      <td>...</td>\n",
       "    </tr>\n",
       "    <tr>\n",
       "      <th>68294058</th>\n",
       "      <td>91034088</td>\n",
       "      <td>45612695</td>\n",
       "    </tr>\n",
       "    <tr>\n",
       "      <th>68294059</th>\n",
       "      <td>91034088</td>\n",
       "      <td>48714451</td>\n",
       "    </tr>\n",
       "    <tr>\n",
       "      <th>68294060</th>\n",
       "      <td>91034088</td>\n",
       "      <td>66662916</td>\n",
       "    </tr>\n",
       "    <tr>\n",
       "      <th>68294061</th>\n",
       "      <td>91034088</td>\n",
       "      <td>67027618</td>\n",
       "    </tr>\n",
       "    <tr>\n",
       "      <th>68294062</th>\n",
       "      <td>91034088</td>\n",
       "      <td>79513066</td>\n",
       "    </tr>\n",
       "  </tbody>\n",
       "</table>\n",
       "<p>68294063 rows × 2 columns</p>\n",
       "</div>"
      ],
      "text/plain": [
       "          from_node   to_node\n",
       "0               362  13833969\n",
       "1               362  21183718\n",
       "2               362  24229864\n",
       "3               362  30617333\n",
       "4               362  34548414\n",
       "...             ...       ...\n",
       "68294058   91034088  45612695\n",
       "68294059   91034088  48714451\n",
       "68294060   91034088  66662916\n",
       "68294061   91034088  67027618\n",
       "68294062   91034088  79513066\n",
       "\n",
       "[68294063 rows x 2 columns]"
      ]
     },
     "execution_count": 36,
     "metadata": {},
     "output_type": "execute_result"
    }
   ],
   "source": [
    "filtered_edges_df"
   ]
  },
  {
   "cell_type": "code",
   "execution_count": 35,
   "id": "7c0be850-6022-4048-bff8-3ba78c5783f2",
   "metadata": {},
   "outputs": [],
   "source": [
    "filtered_edges_df.to_csv(\"outputs/filtered_edges_df.csv\", index=False)"
   ]
  }
 ],
 "metadata": {
  "kernelspec": {
   "display_name": "Python 3 (ipykernel)",
   "language": "python",
   "name": "python3"
  },
  "language_info": {
   "codemirror_mode": {
    "name": "ipython",
    "version": 3
   },
   "file_extension": ".py",
   "mimetype": "text/x-python",
   "name": "python",
   "nbconvert_exporter": "python",
   "pygments_lexer": "ipython3",
   "version": "3.13.1"
  }
 },
 "nbformat": 4,
 "nbformat_minor": 5
}
